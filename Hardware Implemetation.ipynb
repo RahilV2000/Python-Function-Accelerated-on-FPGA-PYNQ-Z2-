{
 "cells": [
  {
   "cell_type": "code",
   "execution_count": null,
   "id": "5328b408",
   "metadata": {},
   "outputs": [],
   "source": [
    "%matplotlib notebook\n",
    "import matplotlib.pyplot as plt\n",
    "def plot_to_notebook(time_sec, in_signal_n_samples,out_signal=None):\n",
    "    plt.figure()\n",
    "    plt.subplot(1,1,1)\n",
    "    plt.xlabel('Time (usec)')\n",
    "    plt.grid()\n",
    "    plt.plot(time_sec[:n_samples]*1e6, in_signal[:n_samples], 'y-', label='input signal')\n",
    "    \n",
    "    if out_signal is not None:\n",
    "          plt.plot(time_sec[:n_samples]*1e6, out_signal[:n_samples], 'g-',linewidth=2, label='FIR OUTPUT')"
   ]
  },
  {
   "cell_type": "code",
   "execution_count": null,
   "id": "156acb48",
   "metadata": {},
   "outputs": [],
   "source": [
    "import numpy as np\n",
    "Total_time= 0.002\n",
    "Samp_freq = 100e6\n",
    "numb_samples = int(Total_time*Samp_freq)\n",
    "t= np.linspace(0, Total_time, numb_samples endpoint=False)\n",
    "samples = 1000*np.sin(0.2e6*2*np.pi*t) + 1500*np.cos(46e6*2*np.pi*t) + 2000*np.sin(12e6*2*np.pi*t)\n",
    "samples_32bit = samples.astype(np.int32)\n",
    "print('No. of samples: ',len(samples_32bit))\n",
    "plot_to_notebook(t,samples_32bit,1000)"
   ]
  },
  {
   "cell_type": "code",
   "execution_count": null,
   "id": "044e5d28",
   "metadata": {},
   "outputs": [],
   "source": [
    "from pynq import Overlay\n",
    "import pynq.lib.dma\n",
    "from pynq import Xlnk\n",
    "import numpy as np\n",
    "\n",
    "overlay = Overlay('/home/xilinx/pynq/overlays/fir_accelerator/fir_accelerator.bit')\n",
    "\n",
    "dma = overlay.filter.fir_dma\n",
    "\n",
    "xlnk = Xlnk()\n",
    "in_buffer = xlnk.cma_array(shape=(n,), dtype=np.int32)\n",
    "out_buffer = xlnk.cma_array(shape=(n,), dtype=np.int32)\n",
    "\n",
    "np.copyto(in_buffer,samples)\n",
    "\n",
    "import time\n",
    "\n",
    "start_time = time.time()\n",
    "dma.sendchannel.transfer(in_buffer)\n",
    "dma.recvchannel.transfer(out_buffer)\n",
    "dma.sendchannel.wait()\n",
    "dma.recvchannel.wait()\n",
    "stop_time = time.time()\n",
    "\n",
    "hard_exec_t= stop_time - start_time\n",
    "print('Hardware performance time: ', hard_exec_t)\n",
    "\n",
    "plot_to_notebook(t,samples_32bit, 1000, out_signal = out_buffer)\n",
    "in_buffer.close()\n",
    "out_buffer.close()"
   ]
  }
 ],
 "metadata": {
  "kernelspec": {
   "display_name": "Python 3",
   "language": "python",
   "name": "python3"
  },
  "language_info": {
   "codemirror_mode": {
    "name": "ipython",
    "version": 3
   },
   "file_extension": ".py",
   "mimetype": "text/x-python",
   "name": "python",
   "nbconvert_exporter": "python",
   "pygments_lexer": "ipython3",
   "version": "3.8.8"
  }
 },
 "nbformat": 4,
 "nbformat_minor": 5
}
