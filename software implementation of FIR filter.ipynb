{
 "cells": [
  {
   "cell_type": "code",
   "execution_count": null,
   "id": "8fa7d9e8",
   "metadata": {},
   "outputs": [],
   "source": [
    "%matplotlib notebook\n",
    "import matplotlib.pyplot as plt\n",
    "def plot_to_notebook(time_sec, in_signal_n_samples,out_signal=None):\n",
    "    plt.figure()\n",
    "    plt.subplot(1,1,1)\n",
    "    plt.xlabel('Time (usec)')\n",
    "    plt.grid()\n",
    "    plt.plot(time_sec[:n_samples]*1e6, in_signal[:n_samples], 'y-', label='input signal')\n",
    "    \n",
    "    if out_signal is not None:\n",
    "          plt.plot(time_sec[:n_samples]*1e6, out_signal[:n_samples], 'g-',linewidth=2, label='FIR OUTPUT')"
   ]
  },
  {
   "cell_type": "code",
   "execution_count": null,
   "id": "e4c4a5f0",
   "metadata": {},
   "outputs": [],
   "source": [
    "import numpy as np\n",
    "Total_time= 0.002\n",
    "Samp_freq = 100e6\n",
    "numb_samples = int(Total_time*Samp_freq)\n",
    "t= np.linspace(0, Total_time, numb_samples endpoint=False)\n",
    "samples = 1000*np.sin(0.2e6*2*np.pi*t) + 1500*np.cos(46e6*2*np.pi*t) + 2000*np.sin(12e6*2*np.pi*t)\n",
    "samples_32bit = samples.astype(np.int32)\n",
    "print('No. of samples: ',len(samples_32bit))\n",
    "plot_to_notebook(t,samples_32bit,1000)"
   ]
  },
  {
   "cell_type": "code",
   "execution_count": null,
   "id": "5392d277",
   "metadata": {},
   "outputs": [],
   "source": [
    "from scipy.signal import lfilter\n",
    "import time\n",
    "coeffecients=[-255,-260,-312,-288,-144,153,616,1233,1963,2739,3474,4081,4481,462,4481,4081,3474,2739,1963,1233,616,153,-143,-288,-312,-260,-255]\n",
    "start_time = time.time()\n",
    "soft_fir_out = ifilter(coeffecients, 70e3,samples_32bit)\n",
    "stop_time = time.time()\n",
    "soft_exec_t= stop_time - start_time\n",
    "print('Software performance time: ', soft_exec_t)\n",
    "plot_to_notebook(t,samples_32bit,1000,out_signal=soft_fir_out"
   ]
  }
 ],
 "metadata": {
  "kernelspec": {
   "display_name": "Python 3",
   "language": "python",
   "name": "python3"
  },
  "language_info": {
   "codemirror_mode": {
    "name": "ipython",
    "version": 3
   },
   "file_extension": ".py",
   "mimetype": "text/x-python",
   "name": "python",
   "nbconvert_exporter": "python",
   "pygments_lexer": "ipython3",
   "version": "3.8.8"
  }
 },
 "nbformat": 4,
 "nbformat_minor": 5
}
